{
 "cells": [
  {
   "cell_type": "code",
   "execution_count": 8,
   "metadata": {},
   "outputs": [],
   "source": [
    "import pandas as pd\n",
    "import requests\n",
    "import matplotlib.pyplot as plt"
   ]
  },
  {
   "cell_type": "code",
   "execution_count": 9,
   "metadata": {},
   "outputs": [
    {
     "name": "stdout",
     "output_type": "stream",
     "text": [
      "Requirement already satisfied: sodapy in c:\\users\\scott\\anaconda3\\lib\\site-packages (2.1.1)\n",
      "Requirement already satisfied: requests>=2.20.0 in c:\\users\\scott\\anaconda3\\lib\\site-packages (from sodapy) (2.26.0)\n",
      "Requirement already satisfied: idna<4,>=2.5 in c:\\users\\scott\\anaconda3\\lib\\site-packages (from requests>=2.20.0->sodapy) (3.2)\n",
      "Requirement already satisfied: certifi>=2017.4.17 in c:\\users\\scott\\anaconda3\\lib\\site-packages (from requests>=2.20.0->sodapy) (2021.10.8)\n",
      "Requirement already satisfied: charset-normalizer~=2.0.0 in c:\\users\\scott\\anaconda3\\lib\\site-packages (from requests>=2.20.0->sodapy) (2.0.4)\n",
      "Requirement already satisfied: urllib3<1.27,>=1.21.1 in c:\\users\\scott\\anaconda3\\lib\\site-packages (from requests>=2.20.0->sodapy) (1.26.7)\n",
      "Note: you may need to restart the kernel to use updated packages.\n"
     ]
    }
   ],
   "source": [
    "pip install sodapy"
   ]
  },
  {
   "cell_type": "code",
   "execution_count": 10,
   "metadata": {},
   "outputs": [],
   "source": [
    "from sodapy import Socrata"
   ]
  },
  {
   "cell_type": "code",
   "execution_count": 11,
   "metadata": {},
   "outputs": [],
   "source": [
    "data_url='data.nashville.gov'"
   ]
  },
  {
   "cell_type": "code",
   "execution_count": 12,
   "metadata": {},
   "outputs": [],
   "source": [
    "data_set='fuaa-r5cm'"
   ]
  },
  {
   "cell_type": "code",
   "execution_count": 13,
   "metadata": {},
   "outputs": [],
   "source": [
    "import json"
   ]
  },
  {
   "cell_type": "code",
   "execution_count": 15,
   "metadata": {},
   "outputs": [],
   "source": [
    "with open('keys.json') as fi:\n",
    "    credentials = json.load(fi)"
   ]
  },
  {
   "cell_type": "code",
   "execution_count": 16,
   "metadata": {},
   "outputs": [],
   "source": [
    "app_token = credentials['app_token']"
   ]
  },
  {
   "cell_type": "code",
   "execution_count": 18,
   "metadata": {},
   "outputs": [],
   "source": [
    "#app_token"
   ]
  },
  {
   "cell_type": "code",
   "execution_count": 19,
   "metadata": {},
   "outputs": [],
   "source": [
    "client = Socrata(data_url, app_token)"
   ]
  },
  {
   "cell_type": "code",
   "execution_count": 20,
   "metadata": {},
   "outputs": [],
   "source": [
    "client.timeout = 60"
   ]
  },
  {
   "cell_type": "code",
   "execution_count": 21,
   "metadata": {},
   "outputs": [],
   "source": [
    "results = client.get(data_set, limit=2000)"
   ]
  },
  {
   "cell_type": "code",
   "execution_count": 22,
   "metadata": {},
   "outputs": [
    {
     "data": {
      "text/html": [
       "<div>\n",
       "<style scoped>\n",
       "    .dataframe tbody tr th:only-of-type {\n",
       "        vertical-align: middle;\n",
       "    }\n",
       "\n",
       "    .dataframe tbody tr th {\n",
       "        vertical-align: top;\n",
       "    }\n",
       "\n",
       "    .dataframe thead th {\n",
       "        text-align: right;\n",
       "    }\n",
       "</style>\n",
       "<table border=\"1\" class=\"dataframe\">\n",
       "  <thead>\n",
       "    <tr style=\"text-align: right;\">\n",
       "      <th></th>\n",
       "      <th>month_name</th>\n",
       "      <th>year</th>\n",
       "      <th>query_count</th>\n",
       "      <th>query_text</th>\n",
       "    </tr>\n",
       "  </thead>\n",
       "  <tbody>\n",
       "    <tr>\n",
       "      <th>0</th>\n",
       "      <td>January</td>\n",
       "      <td>2014</td>\n",
       "      <td>223</td>\n",
       "      <td>ebid</td>\n",
       "    </tr>\n",
       "    <tr>\n",
       "      <th>1</th>\n",
       "      <td>January</td>\n",
       "      <td>2014</td>\n",
       "      <td>112</td>\n",
       "      <td>property maps</td>\n",
       "    </tr>\n",
       "    <tr>\n",
       "      <th>2</th>\n",
       "      <td>January</td>\n",
       "      <td>2014</td>\n",
       "      <td>97</td>\n",
       "      <td>maps</td>\n",
       "    </tr>\n",
       "    <tr>\n",
       "      <th>3</th>\n",
       "      <td>January</td>\n",
       "      <td>2014</td>\n",
       "      <td>90</td>\n",
       "      <td>property tax</td>\n",
       "    </tr>\n",
       "    <tr>\n",
       "      <th>4</th>\n",
       "      <td>January</td>\n",
       "      <td>2014</td>\n",
       "      <td>76</td>\n",
       "      <td>jobs</td>\n",
       "    </tr>\n",
       "  </tbody>\n",
       "</table>\n",
       "</div>"
      ],
      "text/plain": [
       "  month_name  year query_count     query_text\n",
       "0    January  2014         223           ebid\n",
       "1    January  2014         112  property maps\n",
       "2    January  2014          97           maps\n",
       "3    January  2014          90   property tax\n",
       "4    January  2014          76           jobs"
      ]
     },
     "execution_count": 22,
     "metadata": {},
     "output_type": "execute_result"
    }
   ],
   "source": [
    "results_df = pd.DataFrame.from_records(results)\n",
    "results_df.head()"
   ]
  },
  {
   "cell_type": "code",
   "execution_count": 23,
   "metadata": {},
   "outputs": [
    {
     "data": {
      "text/plain": [
       "{'id': 'fuaa-r5cm',\n",
       " 'name': 'Nashville.gov - Top 500 Monthly Searches',\n",
       " 'assetType': 'dataset',\n",
       " 'attribution': 'NetTango and Metro Information Technology Services',\n",
       " 'attributionLink': 'http://www.nashville.gov/Search.aspx',\n",
       " 'averageRating': 0,\n",
       " 'category': 'Public Services',\n",
       " 'createdAt': 1398968952,\n",
       " 'description': \"A listing of the top 500 queries performed on Nashville.gov using the site's search feature, sorted by month and year.\",\n",
       " 'displayType': 'table',\n",
       " 'downloadCount': 1139,\n",
       " 'hideFromCatalog': False,\n",
       " 'hideFromDataJson': False,\n",
       " 'indexUpdatedAt': 1555682566,\n",
       " 'licenseId': 'PUBLIC_DOMAIN',\n",
       " 'newBackend': True,\n",
       " 'numberOfComments': 0,\n",
       " 'oid': 31299163,\n",
       " 'provenance': 'official',\n",
       " 'publicationAppendEnabled': False,\n",
       " 'publicationDate': 1555682571,\n",
       " 'publicationGroup': 1566053,\n",
       " 'publicationStage': 'published',\n",
       " 'rowsUpdatedAt': 1628868679,\n",
       " 'rowsUpdatedBy': 'n59w-v7ka',\n",
       " 'tableId': 16119291,\n",
       " 'totalTimesRated': 0,\n",
       " 'viewCount': 8633,\n",
       " 'viewLastModified': 1628868678,\n",
       " 'viewType': 'tabular',\n",
       " 'approvals': [{'reviewedAt': 1555682571,\n",
       "   'reviewedAutomatically': True,\n",
       "   'state': 'approved',\n",
       "   'submissionId': 753545,\n",
       "   'submissionObject': 'public_audience_request',\n",
       "   'submissionOutcome': 'change_audience',\n",
       "   'submittedAt': 1555682571,\n",
       "   'workflowId': 2123,\n",
       "   'submissionDetails': {'permissionType': 'READ'},\n",
       "   'submissionOutcomeApplication': {'failureCount': 0, 'status': 'success'},\n",
       "   'submitter': {'id': 'n59w-v7ka',\n",
       "    'displayName': 'Open Data Administrator'}}],\n",
       " 'clientContext': {'clientContextVariables': []},\n",
       " 'columns': [{'id': 404598405,\n",
       "   'name': 'Month Name',\n",
       "   'dataTypeName': 'text',\n",
       "   'description': 'Month name for the query',\n",
       "   'fieldName': 'month_name',\n",
       "   'position': 1,\n",
       "   'renderTypeName': 'text',\n",
       "   'tableColumnId': 19501534,\n",
       "   'width': 150,\n",
       "   'cachedContents': {'largest': 'September',\n",
       "    'non_null': '43677',\n",
       "    'null': '0',\n",
       "    'top': [{'item': 'July', 'count': '4000'},\n",
       "     {'item': 'January', 'count': '4000'},\n",
       "     {'item': 'April', 'count': '4000'},\n",
       "     {'item': 'June', 'count': '4000'},\n",
       "     {'item': 'May', 'count': '4000'},\n",
       "     {'item': 'November', 'count': '3500'},\n",
       "     {'item': 'March', 'count': '3500'},\n",
       "     {'item': 'August', 'count': '3500'},\n",
       "     {'item': 'February', 'count': '3500'},\n",
       "     {'item': 'September', 'count': '3500'},\n",
       "     {'item': 'October', 'count': '3177'},\n",
       "     {'item': 'December', 'count': '3000'}],\n",
       "    'not_null': '33500',\n",
       "    'smallest': 'April',\n",
       "    'cardinality': '12'},\n",
       "   'format': {'displayStyle': 'plain', 'align': 'left'}},\n",
       "  {'id': 404598409,\n",
       "   'name': 'Month',\n",
       "   'dataTypeName': 'number',\n",
       "   'description': 'Month number for the query',\n",
       "   'fieldName': 'month',\n",
       "   'position': 2,\n",
       "   'renderTypeName': 'number',\n",
       "   'tableColumnId': 79561026,\n",
       "   'width': 115,\n",
       "   'cachedContents': {'largest': '12',\n",
       "    'non_null': '15177',\n",
       "    'null': '28500',\n",
       "    'top': [{'item': '1', 'count': '1500'},\n",
       "     {'item': '2', 'count': '1500'},\n",
       "     {'item': '3', 'count': '1500'},\n",
       "     {'item': '4', 'count': '1500'},\n",
       "     {'item': '5', 'count': '1500'},\n",
       "     {'item': '6', 'count': '1500'},\n",
       "     {'item': '7', 'count': '1500'},\n",
       "     {'item': '8', 'count': '1000'},\n",
       "     {'item': '9', 'count': '1000'},\n",
       "     {'item': '11', 'count': '1000'},\n",
       "     {'item': '12', 'count': '1000'},\n",
       "     {'item': '10', 'count': '677'}],\n",
       "    'not_null': '5000',\n",
       "    'smallest': '1',\n",
       "    'cardinality': '12'},\n",
       "   'format': {}},\n",
       "  {'id': 404598406,\n",
       "   'name': 'Year',\n",
       "   'dataTypeName': 'number',\n",
       "   'description': 'Year of the query',\n",
       "   'fieldName': 'year',\n",
       "   'position': 3,\n",
       "   'renderTypeName': 'number',\n",
       "   'tableColumnId': 19502377,\n",
       "   'width': 96,\n",
       "   'cachedContents': {'largest': '2021',\n",
       "    'non_null': '43677',\n",
       "    'null': '0',\n",
       "    'top': [{'item': '2014', 'count': '6000'},\n",
       "     {'item': '2019', 'count': '6000'},\n",
       "     {'item': '2017', 'count': '6000'},\n",
       "     {'item': '2016', 'count': '6000'},\n",
       "     {'item': '2020', 'count': '5677'},\n",
       "     {'item': '2015', 'count': '5500'},\n",
       "     {'item': '2018', 'count': '5000'},\n",
       "     {'item': '2021', 'count': '3500'}],\n",
       "    'not_null': '33500',\n",
       "    'smallest': '2014',\n",
       "    'cardinality': '8'},\n",
       "   'format': {'precisionStyle': 'standard',\n",
       "    'noCommas': 'true',\n",
       "    'align': 'right'}},\n",
       "  {'id': 404598407,\n",
       "   'name': 'Query Count',\n",
       "   'dataTypeName': 'number',\n",
       "   'description': 'Total number of queries for the term during the month and year of the record',\n",
       "   'fieldName': 'query_count',\n",
       "   'position': 4,\n",
       "   'renderTypeName': 'number',\n",
       "   'tableColumnId': 19501535,\n",
       "   'width': 153,\n",
       "   'cachedContents': {'largest': '5610',\n",
       "    'non_null': '43676',\n",
       "    'null': '1',\n",
       "    'top': [{'item': '8', 'count': '3234'},\n",
       "     {'item': '9', 'count': '2934'},\n",
       "     {'item': '7', 'count': '2667'},\n",
       "     {'item': '10', 'count': '2659'},\n",
       "     {'item': '11', 'count': '2161'},\n",
       "     {'item': '12', 'count': '1944'},\n",
       "     {'item': '16', 'count': '1822'},\n",
       "     {'item': '13', 'count': '1681'},\n",
       "     {'item': '14', 'count': '1621'},\n",
       "     {'item': '15', 'count': '1491'},\n",
       "     {'item': '18', 'count': '1490'},\n",
       "     {'item': '17', 'count': '1410'},\n",
       "     {'item': '20', 'count': '1174'},\n",
       "     {'item': '19', 'count': '1116'},\n",
       "     {'item': '22', 'count': '972'},\n",
       "     {'item': '21', 'count': '855'},\n",
       "     {'item': '6', 'count': '820'},\n",
       "     {'item': '24', 'count': '759'},\n",
       "     {'item': '23', 'count': '733'},\n",
       "     {'item': '26', 'count': '638'}],\n",
       "    'not_null': '33500',\n",
       "    'smallest': '5',\n",
       "    'cardinality': '304'},\n",
       "   'format': {'precisionStyle': 'standard',\n",
       "    'noCommas': 'false',\n",
       "    'align': 'right'}},\n",
       "  {'id': 404598408,\n",
       "   'name': 'Query Text',\n",
       "   'dataTypeName': 'text',\n",
       "   'description': 'Query term entered by a website user',\n",
       "   'fieldName': 'query_text',\n",
       "   'position': 5,\n",
       "   'renderTypeName': 'text',\n",
       "   'tableColumnId': 19501536,\n",
       "   'width': 388,\n",
       "   'cachedContents': {'largest': 'Zumba',\n",
       "    'non_null': '43677',\n",
       "    'null': '0',\n",
       "    'top': [{'item': 'stormwater', 'count': '87'},\n",
       "     {'item': 'im', 'count': '87'},\n",
       "     {'item': 'pay plan', 'count': '86'},\n",
       "     {'item': 'isupplier', 'count': '86'},\n",
       "     {'item': 'codes', 'count': '86'},\n",
       "     {'item': 'property', 'count': '86'},\n",
       "     {'item': 'procurement', 'count': '86'},\n",
       "     {'item': 'planning', 'count': '85'},\n",
       "     {'item': 'bids', 'count': '85'},\n",
       "     {'item': 'building permits', 'count': '85'},\n",
       "     {'item': 'employment', 'count': '85'},\n",
       "     {'item': 'register of deeds', 'count': '84'},\n",
       "     {'item': 'civil service rules', 'count': '84'},\n",
       "     {'item': 'finance', 'count': '84'},\n",
       "     {'item': 'permits', 'count': '84'},\n",
       "     {'item': 'planning commission', 'count': '84'},\n",
       "     {'item': 'benefits', 'count': '83'},\n",
       "     {'item': 'zoning', 'count': '83'},\n",
       "     {'item': 'mapping', 'count': '83'},\n",
       "     {'item': 'criminal court clerk', 'count': '83'}],\n",
       "    'not_null': '33500',\n",
       "    'smallest': '`',\n",
       "    'cardinality': '9455'},\n",
       "   'format': {'displayStyle': 'plain', 'align': 'left'}}],\n",
       " 'grants': [{'inherited': False, 'type': 'viewer', 'flags': ['public']}],\n",
       " 'license': {'name': 'Public Domain'},\n",
       " 'metadata': {'rdfSubject': '0',\n",
       "  'attachments': [{'filename': 'Nashville.gov-Top-500-Monthly-Searches-Metadata-v2.pdf',\n",
       "    'assetId': 'b257e5a2-40eb-408f-bf03-6ef43a7dcee4',\n",
       "    'name': 'Nashville.gov-Top-500-Monthly-Searches-Metadata-v2.pdf'}],\n",
       "  'custom_fields': {\"Does this data relate to one or more of the Mayor's Priority Areas?\": {'Relates to Priority:': 'None'}},\n",
       "  'rowLabel': 'Query',\n",
       "  'availableDisplayTypes': ['table', 'fatrow', 'page'],\n",
       "  'renderTypeConfig': {'visible': {'table': True}}},\n",
       " 'owner': {'id': 'n59w-v7ka',\n",
       "  'displayName': 'Open Data Administrator',\n",
       "  'profileImageUrlLarge': '/api/users/n59w-v7ka/profile_images/LARGE',\n",
       "  'profileImageUrlMedium': '/api/users/n59w-v7ka/profile_images/THUMB',\n",
       "  'profileImageUrlSmall': '/api/users/n59w-v7ka/profile_images/TINY',\n",
       "  'screenName': 'Open Data Administrator',\n",
       "  'type': 'interactive',\n",
       "  'flags': ['acceptedEula', 'mayBeStoriesCoOwner']},\n",
       " 'query': {},\n",
       " 'rights': ['read'],\n",
       " 'tableAuthor': {'id': 'n59w-v7ka',\n",
       "  'displayName': 'Open Data Administrator',\n",
       "  'profileImageUrlLarge': '/api/users/n59w-v7ka/profile_images/LARGE',\n",
       "  'profileImageUrlMedium': '/api/users/n59w-v7ka/profile_images/THUMB',\n",
       "  'profileImageUrlSmall': '/api/users/n59w-v7ka/profile_images/TINY',\n",
       "  'screenName': 'Open Data Administrator',\n",
       "  'type': 'interactive',\n",
       "  'flags': ['acceptedEula', 'mayBeStoriesCoOwner']},\n",
       " 'tags': ['nashville.gov',\n",
       "  'search',\n",
       "  'query',\n",
       "  'term',\n",
       "  'website',\n",
       "  'web',\n",
       "  'searchstax',\n",
       "  'google'],\n",
       " 'flags': ['default',\n",
       "  'ownerMayBeContacted',\n",
       "  'restorable',\n",
       "  'restorePossibleForType']}"
      ]
     },
     "execution_count": 23,
     "metadata": {},
     "output_type": "execute_result"
    }
   ],
   "source": [
    "#get metadata\n",
    "metadata = client.get_metadata(data_set)\n",
    "#[x['name'] for x in metadata['columns']]\n",
    "metadata"
   ]
  },
  {
   "cell_type": "code",
   "execution_count": 24,
   "metadata": {},
   "outputs": [
    {
     "name": "stdout",
     "output_type": "stream",
     "text": [
      "{'month_name': 'January', 'year': '2014', 'query_count': '223', 'query_text': 'ebid'}\n"
     ]
    }
   ],
   "source": [
    "print(results[0])"
   ]
  },
  {
   "cell_type": "code",
   "execution_count": 25,
   "metadata": {},
   "outputs": [
    {
     "data": {
      "text/plain": [
       "[{'COUNT': '43677'}]"
      ]
     },
     "execution_count": 25,
     "metadata": {},
     "output_type": "execute_result"
    }
   ],
   "source": [
    "record_count = client.get(data_set, select=\"COUNT(*)\")\n",
    "record_count"
   ]
  },
  {
   "cell_type": "markdown",
   "metadata": {},
   "source": [
    "##  1. Make an API request that returns the months where \"fire\" was searched in 2016. Which month had the most searches"
   ]
  },
  {
   "cell_type": "code",
   "execution_count": null,
   "metadata": {},
   "outputs": [],
   "source": []
  },
  {
   "cell_type": "code",
   "execution_count": 26,
   "metadata": {},
   "outputs": [],
   "source": [
    "results_fire = client.get(data_set, where=\"query_text = 'fire' AND year=2016\", select=\"month_name, year, sum(query_count)\", group=\"month_name, year\", order=\"year\", limit=50000)"
   ]
  },
  {
   "cell_type": "code",
   "execution_count": 27,
   "metadata": {},
   "outputs": [
    {
     "data": {
      "text/plain": [
       "[{'month_name': 'April', 'year': '2016', 'sum_query_count': '26'},\n",
       " {'month_name': 'August', 'year': '2016', 'sum_query_count': '47'},\n",
       " {'month_name': 'December', 'year': '2016', 'sum_query_count': '38'},\n",
       " {'month_name': 'February', 'year': '2016', 'sum_query_count': '35'},\n",
       " {'month_name': 'January', 'year': '2016', 'sum_query_count': '19'},\n",
       " {'month_name': 'July', 'year': '2016', 'sum_query_count': '24'},\n",
       " {'month_name': 'June', 'year': '2016', 'sum_query_count': '31'},\n",
       " {'month_name': 'March', 'year': '2016', 'sum_query_count': '32'},\n",
       " {'month_name': 'May', 'year': '2016', 'sum_query_count': '24'},\n",
       " {'month_name': 'November', 'year': '2016', 'sum_query_count': '32'},\n",
       " {'month_name': 'October', 'year': '2016', 'sum_query_count': '38'},\n",
       " {'month_name': 'September', 'year': '2016', 'sum_query_count': '36'}]"
      ]
     },
     "execution_count": 27,
     "metadata": {},
     "output_type": "execute_result"
    }
   ],
   "source": [
    "results_fire"
   ]
  },
  {
   "cell_type": "markdown",
   "metadata": {},
   "source": [
    "## 2. Make an API request that returns all the times a query was run more than 100 times in a month. How many times did this occur?"
   ]
  },
  {
   "cell_type": "code",
   "execution_count": 28,
   "metadata": {},
   "outputs": [],
   "source": [
    "results_count_100 = client.get(data_set, where=\"query_count > 100\", select=\"COUNT(month_name)\",  limit=50000)"
   ]
  },
  {
   "cell_type": "code",
   "execution_count": 29,
   "metadata": {},
   "outputs": [
    {
     "data": {
      "text/plain": [
       "[{'COUNT_month_name': '1262'}]"
      ]
     },
     "execution_count": 29,
     "metadata": {},
     "output_type": "execute_result"
    }
   ],
   "source": [
    "results_count_100"
   ]
  },
  {
   "cell_type": "markdown",
   "metadata": {},
   "source": [
    "## 3. Make another API request that returns all the times \"codes\" was searched more than 100 times in a month. How many times did this occur?"
   ]
  },
  {
   "cell_type": "code",
   "execution_count": 30,
   "metadata": {},
   "outputs": [],
   "source": [
    "results_count_codes_100 = client.get(data_set, where=\"query_text = 'codes' AND query_count > 100\", select=\"COUNT(month_name)\",  limit=50000)"
   ]
  },
  {
   "cell_type": "code",
   "execution_count": 31,
   "metadata": {},
   "outputs": [
    {
     "data": {
      "text/plain": [
       "[{'COUNT_month_name': '56'}]"
      ]
     },
     "execution_count": 31,
     "metadata": {},
     "output_type": "execute_result"
    }
   ],
   "source": [
    "results_count_codes_100"
   ]
  },
  {
   "cell_type": "markdown",
   "metadata": {},
   "source": [
    "## 4. Make an API request that returns the entire Top 500 Monthly Searches dataset. Make a chart that shows the number of times \"maps\" was searched in a month across the entire time frame."
   ]
  },
  {
   "cell_type": "code",
   "execution_count": 32,
   "metadata": {},
   "outputs": [],
   "source": [
    "results_count_maps = client.get(data_set, where=\"query_text = 'maps'\", select=\"month_name, year, sum(query_count)\", group=\"month_name, year\", order=\"year\", limit=50000)"
   ]
  },
  {
   "cell_type": "code",
   "execution_count": 34,
   "metadata": {},
   "outputs": [
    {
     "data": {
      "text/plain": [
       "[{'month_name': 'April', 'year': '2014', 'sum_query_count': '152'},\n",
       " {'month_name': 'August', 'year': '2014', 'sum_query_count': '118'},\n",
       " {'month_name': 'December', 'year': '2014', 'sum_query_count': '97'},\n",
       " {'month_name': 'February', 'year': '2014', 'sum_query_count': '140'},\n",
       " {'month_name': 'January', 'year': '2014', 'sum_query_count': '97'},\n",
       " {'month_name': 'July', 'year': '2014', 'sum_query_count': '121'},\n",
       " {'month_name': 'June', 'year': '2014', 'sum_query_count': '121'},\n",
       " {'month_name': 'March', 'year': '2014', 'sum_query_count': '144'},\n",
       " {'month_name': 'May', 'year': '2014', 'sum_query_count': '119'},\n",
       " {'month_name': 'November', 'year': '2014', 'sum_query_count': '82'},\n",
       " {'month_name': 'October', 'year': '2014', 'sum_query_count': '100'},\n",
       " {'month_name': 'September', 'year': '2014', 'sum_query_count': '115'},\n",
       " {'month_name': 'April', 'year': '2015', 'sum_query_count': '130'},\n",
       " {'month_name': 'August', 'year': '2015', 'sum_query_count': '81'},\n",
       " {'month_name': 'December', 'year': '2015', 'sum_query_count': '117'},\n",
       " {'month_name': 'February', 'year': '2015', 'sum_query_count': '129'},\n",
       " {'month_name': 'January', 'year': '2015', 'sum_query_count': '119'},\n",
       " {'month_name': 'July', 'year': '2015', 'sum_query_count': '120'},\n",
       " {'month_name': 'June', 'year': '2015', 'sum_query_count': '148'},\n",
       " {'month_name': 'May', 'year': '2015', 'sum_query_count': '109'},\n",
       " {'month_name': 'November', 'year': '2015', 'sum_query_count': '102'},\n",
       " {'month_name': 'October', 'year': '2015', 'sum_query_count': '110'},\n",
       " {'month_name': 'September', 'year': '2015', 'sum_query_count': '110'},\n",
       " {'month_name': 'April', 'year': '2016', 'sum_query_count': '115'},\n",
       " {'month_name': 'August', 'year': '2016', 'sum_query_count': '137'},\n",
       " {'month_name': 'December', 'year': '2016', 'sum_query_count': '108'},\n",
       " {'month_name': 'February', 'year': '2016', 'sum_query_count': '130'},\n",
       " {'month_name': 'January', 'year': '2016', 'sum_query_count': '104'},\n",
       " {'month_name': 'July', 'year': '2016', 'sum_query_count': '149'},\n",
       " {'month_name': 'June', 'year': '2016', 'sum_query_count': '125'},\n",
       " {'month_name': 'March', 'year': '2016', 'sum_query_count': '83'},\n",
       " {'month_name': 'May', 'year': '2016', 'sum_query_count': '125'},\n",
       " {'month_name': 'November', 'year': '2016', 'sum_query_count': '120'},\n",
       " {'month_name': 'October', 'year': '2016', 'sum_query_count': '138'},\n",
       " {'month_name': 'September', 'year': '2016', 'sum_query_count': '181'},\n",
       " {'month_name': 'April', 'year': '2017', 'sum_query_count': '351'},\n",
       " {'month_name': 'August', 'year': '2017', 'sum_query_count': '238'},\n",
       " {'month_name': 'December', 'year': '2017', 'sum_query_count': '121'},\n",
       " {'month_name': 'February', 'year': '2017', 'sum_query_count': '235'},\n",
       " {'month_name': 'January', 'year': '2017', 'sum_query_count': '117'},\n",
       " {'month_name': 'July', 'year': '2017', 'sum_query_count': '236'},\n",
       " {'month_name': 'June', 'year': '2017', 'sum_query_count': '265'},\n",
       " {'month_name': 'March', 'year': '2017', 'sum_query_count': '331'},\n",
       " {'month_name': 'May', 'year': '2017', 'sum_query_count': '266'},\n",
       " {'month_name': 'November', 'year': '2017', 'sum_query_count': '155'},\n",
       " {'month_name': 'October', 'year': '2017', 'sum_query_count': '224'},\n",
       " {'month_name': 'September', 'year': '2017', 'sum_query_count': '222'},\n",
       " {'month_name': 'April', 'year': '2018', 'sum_query_count': '189'},\n",
       " {'month_name': 'August', 'year': '2018', 'sum_query_count': '186'},\n",
       " {'month_name': 'January', 'year': '2018', 'sum_query_count': '173'},\n",
       " {'month_name': 'July', 'year': '2018', 'sum_query_count': '173'},\n",
       " {'month_name': 'June', 'year': '2018', 'sum_query_count': '154'},\n",
       " {'month_name': 'March', 'year': '2018', 'sum_query_count': '188'},\n",
       " {'month_name': 'May', 'year': '2018', 'sum_query_count': '156'},\n",
       " {'month_name': 'November', 'year': '2018', 'sum_query_count': '164'},\n",
       " {'month_name': 'October', 'year': '2018', 'sum_query_count': '166'},\n",
       " {'month_name': 'September', 'year': '2018', 'sum_query_count': '240'},\n",
       " {'month_name': 'April', 'year': '2019', 'sum_query_count': '110'},\n",
       " {'month_name': 'August', 'year': '2019', 'sum_query_count': '106'},\n",
       " {'month_name': 'February', 'year': '2019', 'sum_query_count': '98'},\n",
       " {'month_name': 'January', 'year': '2019', 'sum_query_count': '160'},\n",
       " {'month_name': 'July', 'year': '2019', 'sum_query_count': '124'},\n",
       " {'month_name': 'June', 'year': '2019', 'sum_query_count': '116'},\n",
       " {'month_name': 'March', 'year': '2019', 'sum_query_count': '88'},\n",
       " {'month_name': 'May', 'year': '2019', 'sum_query_count': '105'},\n",
       " {'month_name': 'November', 'year': '2019', 'sum_query_count': '96'},\n",
       " {'month_name': 'October', 'year': '2019', 'sum_query_count': '116'},\n",
       " {'month_name': 'September', 'year': '2019', 'sum_query_count': '83'},\n",
       " {'month_name': 'April', 'year': '2020', 'sum_query_count': '114'},\n",
       " {'month_name': 'August', 'year': '2020', 'sum_query_count': '125'},\n",
       " {'month_name': 'December', 'year': '2020', 'sum_query_count': '113'},\n",
       " {'month_name': 'February', 'year': '2020', 'sum_query_count': '100'},\n",
       " {'month_name': 'January', 'year': '2020', 'sum_query_count': '154'},\n",
       " {'month_name': 'July', 'year': '2020', 'sum_query_count': '139'},\n",
       " {'month_name': 'June', 'year': '2020', 'sum_query_count': '136'},\n",
       " {'month_name': 'March', 'year': '2020', 'sum_query_count': '124'},\n",
       " {'month_name': 'May', 'year': '2020', 'sum_query_count': '139'},\n",
       " {'month_name': 'November', 'year': '2020', 'sum_query_count': '86'},\n",
       " {'month_name': 'October', 'year': '2020', 'sum_query_count': '127'},\n",
       " {'month_name': 'April', 'year': '2021', 'sum_query_count': '148'},\n",
       " {'month_name': 'June', 'year': '2021', 'sum_query_count': '151'},\n",
       " {'month_name': 'March', 'year': '2021', 'sum_query_count': '132'}]"
      ]
     },
     "execution_count": 34,
     "metadata": {},
     "output_type": "execute_result"
    }
   ],
   "source": [
    "results_count_maps"
   ]
  },
  {
   "cell_type": "code",
   "execution_count": 36,
   "metadata": {},
   "outputs": [
    {
     "data": {
      "text/html": [
       "<div>\n",
       "<style scoped>\n",
       "    .dataframe tbody tr th:only-of-type {\n",
       "        vertical-align: middle;\n",
       "    }\n",
       "\n",
       "    .dataframe tbody tr th {\n",
       "        vertical-align: top;\n",
       "    }\n",
       "\n",
       "    .dataframe thead th {\n",
       "        text-align: right;\n",
       "    }\n",
       "</style>\n",
       "<table border=\"1\" class=\"dataframe\">\n",
       "  <thead>\n",
       "    <tr style=\"text-align: right;\">\n",
       "      <th></th>\n",
       "      <th>month_name</th>\n",
       "      <th>year</th>\n",
       "      <th>sum_query_count</th>\n",
       "    </tr>\n",
       "  </thead>\n",
       "  <tbody>\n",
       "    <tr>\n",
       "      <th>0</th>\n",
       "      <td>April</td>\n",
       "      <td>2014</td>\n",
       "      <td>152</td>\n",
       "    </tr>\n",
       "    <tr>\n",
       "      <th>1</th>\n",
       "      <td>August</td>\n",
       "      <td>2014</td>\n",
       "      <td>118</td>\n",
       "    </tr>\n",
       "    <tr>\n",
       "      <th>2</th>\n",
       "      <td>December</td>\n",
       "      <td>2014</td>\n",
       "      <td>97</td>\n",
       "    </tr>\n",
       "    <tr>\n",
       "      <th>3</th>\n",
       "      <td>February</td>\n",
       "      <td>2014</td>\n",
       "      <td>140</td>\n",
       "    </tr>\n",
       "    <tr>\n",
       "      <th>4</th>\n",
       "      <td>January</td>\n",
       "      <td>2014</td>\n",
       "      <td>97</td>\n",
       "    </tr>\n",
       "    <tr>\n",
       "      <th>...</th>\n",
       "      <td>...</td>\n",
       "      <td>...</td>\n",
       "      <td>...</td>\n",
       "    </tr>\n",
       "    <tr>\n",
       "      <th>77</th>\n",
       "      <td>November</td>\n",
       "      <td>2020</td>\n",
       "      <td>86</td>\n",
       "    </tr>\n",
       "    <tr>\n",
       "      <th>78</th>\n",
       "      <td>October</td>\n",
       "      <td>2020</td>\n",
       "      <td>127</td>\n",
       "    </tr>\n",
       "    <tr>\n",
       "      <th>79</th>\n",
       "      <td>April</td>\n",
       "      <td>2021</td>\n",
       "      <td>148</td>\n",
       "    </tr>\n",
       "    <tr>\n",
       "      <th>80</th>\n",
       "      <td>June</td>\n",
       "      <td>2021</td>\n",
       "      <td>151</td>\n",
       "    </tr>\n",
       "    <tr>\n",
       "      <th>81</th>\n",
       "      <td>March</td>\n",
       "      <td>2021</td>\n",
       "      <td>132</td>\n",
       "    </tr>\n",
       "  </tbody>\n",
       "</table>\n",
       "<p>82 rows × 3 columns</p>\n",
       "</div>"
      ],
      "text/plain": [
       "   month_name  year sum_query_count\n",
       "0       April  2014             152\n",
       "1      August  2014             118\n",
       "2    December  2014              97\n",
       "3    February  2014             140\n",
       "4     January  2014              97\n",
       "..        ...   ...             ...\n",
       "77   November  2020              86\n",
       "78    October  2020             127\n",
       "79      April  2021             148\n",
       "80       June  2021             151\n",
       "81      March  2021             132\n",
       "\n",
       "[82 rows x 3 columns]"
      ]
     },
     "execution_count": 36,
     "metadata": {},
     "output_type": "execute_result"
    }
   ],
   "source": [
    "maps_df = pd.DataFrame.from_records(results_count_maps)\n",
    "maps_df"
   ]
  },
  {
   "cell_type": "code",
   "execution_count": 37,
   "metadata": {},
   "outputs": [
    {
     "data": {
      "text/html": [
       "<div>\n",
       "<style scoped>\n",
       "    .dataframe tbody tr th:only-of-type {\n",
       "        vertical-align: middle;\n",
       "    }\n",
       "\n",
       "    .dataframe tbody tr th {\n",
       "        vertical-align: top;\n",
       "    }\n",
       "\n",
       "    .dataframe thead th {\n",
       "        text-align: right;\n",
       "    }\n",
       "</style>\n",
       "<table border=\"1\" class=\"dataframe\">\n",
       "  <thead>\n",
       "    <tr style=\"text-align: right;\">\n",
       "      <th></th>\n",
       "      <th>month_name</th>\n",
       "      <th>year</th>\n",
       "      <th>sum_query_count</th>\n",
       "      <th>month_year</th>\n",
       "    </tr>\n",
       "  </thead>\n",
       "  <tbody>\n",
       "    <tr>\n",
       "      <th>0</th>\n",
       "      <td>April</td>\n",
       "      <td>2014</td>\n",
       "      <td>152</td>\n",
       "      <td>April 2014</td>\n",
       "    </tr>\n",
       "    <tr>\n",
       "      <th>1</th>\n",
       "      <td>August</td>\n",
       "      <td>2014</td>\n",
       "      <td>118</td>\n",
       "      <td>August 2014</td>\n",
       "    </tr>\n",
       "    <tr>\n",
       "      <th>2</th>\n",
       "      <td>December</td>\n",
       "      <td>2014</td>\n",
       "      <td>97</td>\n",
       "      <td>December 2014</td>\n",
       "    </tr>\n",
       "    <tr>\n",
       "      <th>3</th>\n",
       "      <td>February</td>\n",
       "      <td>2014</td>\n",
       "      <td>140</td>\n",
       "      <td>February 2014</td>\n",
       "    </tr>\n",
       "    <tr>\n",
       "      <th>4</th>\n",
       "      <td>January</td>\n",
       "      <td>2014</td>\n",
       "      <td>97</td>\n",
       "      <td>January 2014</td>\n",
       "    </tr>\n",
       "    <tr>\n",
       "      <th>...</th>\n",
       "      <td>...</td>\n",
       "      <td>...</td>\n",
       "      <td>...</td>\n",
       "      <td>...</td>\n",
       "    </tr>\n",
       "    <tr>\n",
       "      <th>77</th>\n",
       "      <td>November</td>\n",
       "      <td>2020</td>\n",
       "      <td>86</td>\n",
       "      <td>November 2020</td>\n",
       "    </tr>\n",
       "    <tr>\n",
       "      <th>78</th>\n",
       "      <td>October</td>\n",
       "      <td>2020</td>\n",
       "      <td>127</td>\n",
       "      <td>October 2020</td>\n",
       "    </tr>\n",
       "    <tr>\n",
       "      <th>79</th>\n",
       "      <td>April</td>\n",
       "      <td>2021</td>\n",
       "      <td>148</td>\n",
       "      <td>April 2021</td>\n",
       "    </tr>\n",
       "    <tr>\n",
       "      <th>80</th>\n",
       "      <td>June</td>\n",
       "      <td>2021</td>\n",
       "      <td>151</td>\n",
       "      <td>June 2021</td>\n",
       "    </tr>\n",
       "    <tr>\n",
       "      <th>81</th>\n",
       "      <td>March</td>\n",
       "      <td>2021</td>\n",
       "      <td>132</td>\n",
       "      <td>March 2021</td>\n",
       "    </tr>\n",
       "  </tbody>\n",
       "</table>\n",
       "<p>82 rows × 4 columns</p>\n",
       "</div>"
      ],
      "text/plain": [
       "   month_name  year sum_query_count     month_year\n",
       "0       April  2014             152     April 2014\n",
       "1      August  2014             118    August 2014\n",
       "2    December  2014              97  December 2014\n",
       "3    February  2014             140  February 2014\n",
       "4     January  2014              97   January 2014\n",
       "..        ...   ...             ...            ...\n",
       "77   November  2020              86  November 2020\n",
       "78    October  2020             127   October 2020\n",
       "79      April  2021             148     April 2021\n",
       "80       June  2021             151      June 2021\n",
       "81      March  2021             132     March 2021\n",
       "\n",
       "[82 rows x 4 columns]"
      ]
     },
     "execution_count": 37,
     "metadata": {},
     "output_type": "execute_result"
    }
   ],
   "source": [
    "maps_df['month_year'] = maps_df['month_name'] + str(' ') + maps_df['year']\n",
    "maps_df"
   ]
  },
  {
   "cell_type": "code",
   "execution_count": 38,
   "metadata": {},
   "outputs": [
    {
     "data": {
      "text/plain": [
       "month_name         object\n",
       "year               object\n",
       "sum_query_count    object\n",
       "month_year         object\n",
       "dtype: object"
      ]
     },
     "execution_count": 38,
     "metadata": {},
     "output_type": "execute_result"
    }
   ],
   "source": [
    "maps_df.dtypes"
   ]
  },
  {
   "cell_type": "code",
   "execution_count": 39,
   "metadata": {},
   "outputs": [],
   "source": [
    "maps_df = maps_df.astype({'sum_query_count':'int'})"
   ]
  },
  {
   "cell_type": "code",
   "execution_count": 40,
   "metadata": {},
   "outputs": [
    {
     "data": {
      "image/png": "[encoded data removed]",
      "text/plain": [
       "<Figure size 1368x576 with 1 Axes>"
      ]
     },
     "metadata": {
      "needs_background": "light"
     },
     "output_type": "display_data"
    }
   ],
   "source": [
    "#plot monthly mention of maps\n",
    "plt.rcParams[\"figure.figsize\"] = (19,8)\n",
    "plt.bar(maps_df['month_year'], maps_df['sum_query_count'], color='blue')\n",
    "plt.xlabel('Month - Year', color='blue')\n",
    "plt.title('Number of Times Maps Mentioned by Month',color='black')\n",
    "plt.tick_params(axis='x', rotation = 90, colors='black')\n",
    "plt.tick_params(axis='y', colors='black')\n",
    "plt.ylabel('Number of Times Maps Mentioned',color='blue')\n",
    "#plt.savefig('maps-mentioned-by-month.png', transparent=False)\n",
    "plt.show()"
   ]
  },
  {
   "cell_type": "markdown",
   "metadata": {},
   "source": [
    "## 5. Make an API request to pull back all the data from hubNashville (311) Service Requests (check to see how many rows you can return in a single request). Compare it to the Top 500 Monthly Searches data set. What do you observe? (This is open-ended, there isn't a specific answer for this one)"
   ]
  },
  {
   "cell_type": "code",
   "execution_count": 41,
   "metadata": {},
   "outputs": [],
   "source": [
    "# api: https://data.nashville.gov/resource/7qhx-rexh.json\n"
   ]
  },
  {
   "cell_type": "code",
   "execution_count": 42,
   "metadata": {},
   "outputs": [],
   "source": [
    "data_url_311 ='data.nashville.gov'"
   ]
  },
  {
   "cell_type": "code",
   "execution_count": 43,
   "metadata": {},
   "outputs": [],
   "source": [
    "data_set_311='7qhx-rexh'"
   ]
  },
  {
   "cell_type": "code",
   "execution_count": 44,
   "metadata": {},
   "outputs": [],
   "source": [
    "client_311 = Socrata(data_url_311, app_token)"
   ]
  },
  {
   "cell_type": "code",
   "execution_count": 45,
   "metadata": {},
   "outputs": [],
   "source": [
    "client_311.timeout = 60"
   ]
  },
  {
   "cell_type": "code",
   "execution_count": 46,
   "metadata": {},
   "outputs": [],
   "source": [
    "results_311 = client_311.get(data_set_311, limit=2000)"
   ]
  },
  {
   "cell_type": "code",
   "execution_count": 47,
   "metadata": {},
   "outputs": [
    {
     "name": "stdout",
     "output_type": "stream",
     "text": [
      "{'case_number': '890432', 'status': 'Closed', 'case_request': 'Trash, Recycling & Litter', 'case_subrequest': 'Missed Pickup - Trash Cart Service', 'additional_subrequest': 'Trash - Curbside/Alley Missed Pickup', 'date_time_opened': '2022-02-08T22:26:54.000', 'date_time_closed': '2022-02-09T21:36:17.000', 'case_origin': 'hubNashville Community', 'state_issue': 'False', 'closed_when_created': 'False', 'incident_address': '1609 Saunders Ave', 'incident_city': 'MADISON', 'incident_council_district': '8', 'incident_zip_code': '37115', 'latitude': '36.24031066163978', 'longitude': '-86.73143289325408', 'mapped_location': {'latitude': '36.24031066163978', 'longitude': '-86.73143289325408'}, ':@computed_region_wvby_4s8j': '1', ':@computed_region_3aw5_2wv7': '1', ':@computed_region_p6sk_2acq': '3', ':@computed_region_gxvr_9jxz': '12', ':@computed_region_yf9r_ed6g': '3', ':@computed_region_fvtq_wnma': '26', ':@computed_region_s8bq_67w7': '3', ':@computed_region_v67z_xm3t': '2', ':@computed_region_kh5x_g7w5': '3', ':@computed_region_cfa7_hbpz': '744', ':@computed_region_sjpq_96s8': '1527', ':@computed_region_gisn_y5cm': '4', ':@computed_region_b9k3_hpc2': '2'}\n"
     ]
    }
   ],
   "source": [
    "print(results_311[0])"
   ]
  },
  {
   "cell_type": "code",
   "execution_count": 48,
   "metadata": {},
   "outputs": [
    {
     "data": {
      "text/html": [
       "<div>\n",
       "<style scoped>\n",
       "    .dataframe tbody tr th:only-of-type {\n",
       "        vertical-align: middle;\n",
       "    }\n",
       "\n",
       "    .dataframe tbody tr th {\n",
       "        vertical-align: top;\n",
       "    }\n",
       "\n",
       "    .dataframe thead th {\n",
       "        text-align: right;\n",
       "    }\n",
       "</style>\n",
       "<table border=\"1\" class=\"dataframe\">\n",
       "  <thead>\n",
       "    <tr style=\"text-align: right;\">\n",
       "      <th></th>\n",
       "      <th>case_number</th>\n",
       "      <th>status</th>\n",
       "      <th>case_request</th>\n",
       "      <th>case_subrequest</th>\n",
       "      <th>additional_subrequest</th>\n",
       "      <th>date_time_opened</th>\n",
       "      <th>date_time_closed</th>\n",
       "      <th>case_origin</th>\n",
       "      <th>state_issue</th>\n",
       "      <th>closed_when_created</th>\n",
       "      <th>...</th>\n",
       "      <th>:@computed_region_s8bq_67w7</th>\n",
       "      <th>:@computed_region_v67z_xm3t</th>\n",
       "      <th>:@computed_region_kh5x_g7w5</th>\n",
       "      <th>:@computed_region_cfa7_hbpz</th>\n",
       "      <th>:@computed_region_sjpq_96s8</th>\n",
       "      <th>:@computed_region_gisn_y5cm</th>\n",
       "      <th>:@computed_region_b9k3_hpc2</th>\n",
       "      <th>parent_case</th>\n",
       "      <th>oem_id</th>\n",
       "      <th>contact_type</th>\n",
       "    </tr>\n",
       "  </thead>\n",
       "  <tbody>\n",
       "    <tr>\n",
       "      <th>0</th>\n",
       "      <td>890432</td>\n",
       "      <td>Closed</td>\n",
       "      <td>Trash, Recycling &amp; Litter</td>\n",
       "      <td>Missed Pickup - Trash Cart Service</td>\n",
       "      <td>Trash - Curbside/Alley Missed Pickup</td>\n",
       "      <td>2022-02-08T22:26:54.000</td>\n",
       "      <td>2022-02-09T21:36:17.000</td>\n",
       "      <td>hubNashville Community</td>\n",
       "      <td>False</td>\n",
       "      <td>False</td>\n",
       "      <td>...</td>\n",
       "      <td>3</td>\n",
       "      <td>2</td>\n",
       "      <td>3</td>\n",
       "      <td>744</td>\n",
       "      <td>1527</td>\n",
       "      <td>4</td>\n",
       "      <td>2</td>\n",
       "      <td>NaN</td>\n",
       "      <td>NaN</td>\n",
       "      <td>NaN</td>\n",
       "    </tr>\n",
       "    <tr>\n",
       "      <th>1</th>\n",
       "      <td>889750</td>\n",
       "      <td>Closed</td>\n",
       "      <td>Trash, Recycling &amp; Litter</td>\n",
       "      <td>Cart Service</td>\n",
       "      <td>Trash - Report a Damaged Cart</td>\n",
       "      <td>2022-02-08T15:24:31.000</td>\n",
       "      <td>2022-02-09T21:36:09.000</td>\n",
       "      <td>hubNashville Community</td>\n",
       "      <td>False</td>\n",
       "      <td>False</td>\n",
       "      <td>...</td>\n",
       "      <td>23</td>\n",
       "      <td>1</td>\n",
       "      <td>14</td>\n",
       "      <td>642</td>\n",
       "      <td>15798</td>\n",
       "      <td>8</td>\n",
       "      <td>1</td>\n",
       "      <td>NaN</td>\n",
       "      <td>NaN</td>\n",
       "      <td>NaN</td>\n",
       "    </tr>\n",
       "    <tr>\n",
       "      <th>2</th>\n",
       "      <td>889990</td>\n",
       "      <td>Closed</td>\n",
       "      <td>Trash, Recycling &amp; Litter</td>\n",
       "      <td>Missed Pickup - Trash Cart Service</td>\n",
       "      <td>Trash - Curbside/Alley Missed Pickup</td>\n",
       "      <td>2022-02-08T17:54:14.000</td>\n",
       "      <td>2022-02-09T21:32:43.000</td>\n",
       "      <td>Phone</td>\n",
       "      <td>False</td>\n",
       "      <td>False</td>\n",
       "      <td>...</td>\n",
       "      <td>11</td>\n",
       "      <td>7</td>\n",
       "      <td>7</td>\n",
       "      <td>14</td>\n",
       "      <td>15548</td>\n",
       "      <td>2</td>\n",
       "      <td>7</td>\n",
       "      <td>NaN</td>\n",
       "      <td>NaN</td>\n",
       "      <td>NaN</td>\n",
       "    </tr>\n",
       "    <tr>\n",
       "      <th>3</th>\n",
       "      <td>887729</td>\n",
       "      <td>Closed</td>\n",
       "      <td>Trash, Recycling &amp; Litter</td>\n",
       "      <td>Missed Pickup - Trash Cart Service</td>\n",
       "      <td>Trash - Curbside/Alley Missed Pickup</td>\n",
       "      <td>2022-02-04T23:29:13.000</td>\n",
       "      <td>2022-02-28T21:46:54.000</td>\n",
       "      <td>hubNashville Community</td>\n",
       "      <td>False</td>\n",
       "      <td>False</td>\n",
       "      <td>...</td>\n",
       "      <td>30</td>\n",
       "      <td>8</td>\n",
       "      <td>30</td>\n",
       "      <td>667</td>\n",
       "      <td>24062</td>\n",
       "      <td>7</td>\n",
       "      <td>8</td>\n",
       "      <td>NaN</td>\n",
       "      <td>NaN</td>\n",
       "      <td>NaN</td>\n",
       "    </tr>\n",
       "    <tr>\n",
       "      <th>4</th>\n",
       "      <td>890361</td>\n",
       "      <td>Closed</td>\n",
       "      <td>Trash, Recycling &amp; Litter</td>\n",
       "      <td>Missed Pickup - Trash Cart Service</td>\n",
       "      <td>Trash - Backdoor</td>\n",
       "      <td>2022-02-08T21:45:29.000</td>\n",
       "      <td>2022-02-28T21:49:05.000</td>\n",
       "      <td>Phone</td>\n",
       "      <td>False</td>\n",
       "      <td>False</td>\n",
       "      <td>...</td>\n",
       "      <td>19</td>\n",
       "      <td>4</td>\n",
       "      <td>20</td>\n",
       "      <td>122</td>\n",
       "      <td>15807</td>\n",
       "      <td>3</td>\n",
       "      <td>4</td>\n",
       "      <td>NaN</td>\n",
       "      <td>NaN</td>\n",
       "      <td>NaN</td>\n",
       "    </tr>\n",
       "  </tbody>\n",
       "</table>\n",
       "<p>5 rows × 33 columns</p>\n",
       "</div>"
      ],
      "text/plain": [
       "  case_number  status               case_request  \\\n",
       "0      890432  Closed  Trash, Recycling & Litter   \n",
       "1      889750  Closed  Trash, Recycling & Litter   \n",
       "2      889990  Closed  Trash, Recycling & Litter   \n",
       "3      887729  Closed  Trash, Recycling & Litter   \n",
       "4      890361  Closed  Trash, Recycling & Litter   \n",
       "\n",
       "                      case_subrequest                 additional_subrequest  \\\n",
       "0  Missed Pickup - Trash Cart Service  Trash - Curbside/Alley Missed Pickup   \n",
       "1                        Cart Service         Trash - Report a Damaged Cart   \n",
       "2  Missed Pickup - Trash Cart Service  Trash - Curbside/Alley Missed Pickup   \n",
       "3  Missed Pickup - Trash Cart Service  Trash - Curbside/Alley Missed Pickup   \n",
       "4  Missed Pickup - Trash Cart Service                      Trash - Backdoor   \n",
       "\n",
       "          date_time_opened         date_time_closed             case_origin  \\\n",
       "0  2022-02-08T22:26:54.000  2022-02-09T21:36:17.000  hubNashville Community   \n",
       "1  2022-02-08T15:24:31.000  2022-02-09T21:36:09.000  hubNashville Community   \n",
       "2  2022-02-08T17:54:14.000  2022-02-09T21:32:43.000                   Phone   \n",
       "3  2022-02-04T23:29:13.000  2022-02-28T21:46:54.000  hubNashville Community   \n",
       "4  2022-02-08T21:45:29.000  2022-02-28T21:49:05.000                   Phone   \n",
       "\n",
       "  state_issue closed_when_created  ... :@computed_region_s8bq_67w7  \\\n",
       "0       False               False  ...                           3   \n",
       "1       False               False  ...                          23   \n",
       "2       False               False  ...                          11   \n",
       "3       False               False  ...                          30   \n",
       "4       False               False  ...                          19   \n",
       "\n",
       "  :@computed_region_v67z_xm3t :@computed_region_kh5x_g7w5  \\\n",
       "0                           2                           3   \n",
       "1                           1                          14   \n",
       "2                           7                           7   \n",
       "3                           8                          30   \n",
       "4                           4                          20   \n",
       "\n",
       "  :@computed_region_cfa7_hbpz :@computed_region_sjpq_96s8  \\\n",
       "0                         744                        1527   \n",
       "1                         642                       15798   \n",
       "2                          14                       15548   \n",
       "3                         667                       24062   \n",
       "4                         122                       15807   \n",
       "\n",
       "  :@computed_region_gisn_y5cm :@computed_region_b9k3_hpc2 parent_case oem_id  \\\n",
       "0                           4                           2         NaN    NaN   \n",
       "1                           8                           1         NaN    NaN   \n",
       "2                           2                           7         NaN    NaN   \n",
       "3                           7                           8         NaN    NaN   \n",
       "4                           3                           4         NaN    NaN   \n",
       "\n",
       "  contact_type  \n",
       "0          NaN  \n",
       "1          NaN  \n",
       "2          NaN  \n",
       "3          NaN  \n",
       "4          NaN  \n",
       "\n",
       "[5 rows x 33 columns]"
      ]
     },
     "execution_count": 48,
     "metadata": {},
     "output_type": "execute_result"
    }
   ],
   "source": [
    "results_311_df = pd.DataFrame.from_records(results_311)\n",
    "results_311_df.head()"
   ]
  },
  {
   "cell_type": "code",
   "execution_count": 49,
   "metadata": {},
   "outputs": [
    {
     "data": {
      "text/plain": [
       "['Request #',\n",
       " 'Status',\n",
       " 'Request Type',\n",
       " 'Subrequest Type',\n",
       " 'Additional Subrequest Type',\n",
       " 'Date / Time Opened',\n",
       " 'Date / Time Closed',\n",
       " 'Request Origin',\n",
       " 'System of Origin ID',\n",
       " 'Contact Type',\n",
       " 'Preferred Language',\n",
       " 'State Issue',\n",
       " 'Parent Request',\n",
       " 'Closed When Created',\n",
       " 'Address',\n",
       " 'City',\n",
       " 'Council District',\n",
       " 'ZIP',\n",
       " 'Latitude',\n",
       " 'Longitude',\n",
       " 'Mapped Location',\n",
       " 'Davidson County Border (GIS)',\n",
       " 'Service Districts (GIS)',\n",
       " 'Council District Outlines (GIS)',\n",
       " 'Zip Codes (GIS)',\n",
       " 'Council Districts_from_c9xn_skx3',\n",
       " 'Zip Codes_data_from_wv8u_vs37',\n",
       " 'Council Districts',\n",
       " 'School Districts',\n",
       " 'Council Districts_uniq_prepend',\n",
       " 'Neighborhoods',\n",
       " 'Zip Codes',\n",
       " 'Police Precincts',\n",
       " 'Davidson County School District Outlines (GIS)']"
      ]
     },
     "execution_count": 49,
     "metadata": {},
     "output_type": "execute_result"
    }
   ],
   "source": [
    "#get metadata for 311\n",
    "metadata_311 = client.get_metadata(data_set_311)\n",
    "[x['name'] for x in metadata_311['columns']]\n",
    "#metadata"
   ]
  },
  {
   "cell_type": "code",
   "execution_count": 50,
   "metadata": {},
   "outputs": [
    {
     "data": {
      "text/plain": [
       "[{'COUNT': '936864'}]"
      ]
     },
     "execution_count": 50,
     "metadata": {},
     "output_type": "execute_result"
    }
   ],
   "source": [
    "record_count_311 = client_311.get(data_set_311, select=\"COUNT(*)\")\n",
    "record_count_311"
   ]
  },
  {
   "cell_type": "code",
   "execution_count": 51,
   "metadata": {},
   "outputs": [],
   "source": [
    "results_311_rows = client_311.get(data_set_311, select=\"*\", limit=936864)"
   ]
  },
  {
   "cell_type": "code",
   "execution_count": 52,
   "metadata": {},
   "outputs": [],
   "source": [
    "results_311_rows_df = pd.DataFrame.from_records(results_311_rows)"
   ]
  },
  {
   "cell_type": "code",
   "execution_count": 53,
   "metadata": {},
   "outputs": [
    {
     "data": {
      "text/plain": [
       "case_number                    936864\n",
       "status                         936864\n",
       "case_request                   936444\n",
       "case_subrequest                932253\n",
       "additional_subrequest          904041\n",
       "date_time_opened               936864\n",
       "date_time_closed               919213\n",
       "case_origin                    936864\n",
       "state_issue                    936864\n",
       "closed_when_created            936864\n",
       "incident_address               637408\n",
       "incident_city                  627370\n",
       "incident_council_district      626700\n",
       "incident_zip_code              626469\n",
       "latitude                       636890\n",
       "longitude                      636890\n",
       "mapped_location                636890\n",
       ":@computed_region_wvby_4s8j    633241\n",
       ":@computed_region_3aw5_2wv7    633239\n",
       ":@computed_region_p6sk_2acq    633241\n",
       ":@computed_region_gxvr_9jxz    633284\n",
       ":@computed_region_yf9r_ed6g    633241\n",
       ":@computed_region_fvtq_wnma    633286\n",
       ":@computed_region_s8bq_67w7    633241\n",
       ":@computed_region_v67z_xm3t    633241\n",
       ":@computed_region_kh5x_g7w5    633241\n",
       ":@computed_region_cfa7_hbpz    423733\n",
       ":@computed_region_sjpq_96s8    600542\n",
       ":@computed_region_gisn_y5cm    633277\n",
       ":@computed_region_b9k3_hpc2    633241\n",
       "parent_case                      9114\n",
       "oem_id                          37234\n",
       "contact_type                    29427\n",
       "preferred_language                  1\n",
       "dtype: int64"
      ]
     },
     "execution_count": 53,
     "metadata": {},
     "output_type": "execute_result"
    }
   ],
   "source": [
    "results_311_rows_df.count()"
   ]
  },
  {
   "cell_type": "markdown",
   "metadata": {},
   "source": [
    "## 6. Find 2 new data sets on data.nashville.gov, make API requests to pull the data, and do an analysis that combines the data sets."
   ]
  },
  {
   "cell_type": "code",
   "execution_count": 54,
   "metadata": {},
   "outputs": [],
   "source": [
    "#https://data.nashville.gov/resource/4ibi-mxs4.json"
   ]
  },
  {
   "cell_type": "code",
   "execution_count": 55,
   "metadata": {},
   "outputs": [],
   "source": [
    "data_url_emp ='data.nashville.gov'"
   ]
  },
  {
   "cell_type": "code",
   "execution_count": 56,
   "metadata": {},
   "outputs": [],
   "source": [
    "data_set_emp ='4ibi-mxs4'"
   ]
  },
  {
   "cell_type": "code",
   "execution_count": null,
   "metadata": {},
   "outputs": [],
   "source": []
  },
  {
   "cell_type": "markdown",
   "metadata": {},
   "source": [
    "## not applicable to this project ## Basic API Usage\n",
    "\n",
    "Let's start by using the Numbers API, an API which provides interesting facts about numbers.\n",
    "\n",
    "With any API, you should start by inspecting the documentation. For the Numbers API, the documentation is located here: http://numbersapi.com"
   ]
  },
  {
   "cell_type": "markdown",
   "metadata": {},
   "source": [
    "We will be using the `requests` package to make a `GET` request to an API. Similar to webscraping, APIs require an endpoint to tell python where to send the request.\n",
    "\n",
    "When using an API, the first thing we need to know is the expected URL structure. In this case, it is http://numbersapi.com/number/type where number is the number for which we want an interesting fact and type indicates which type of fact we want. Note that type can be omitted, and it will default to trivia."
   ]
  },
  {
   "cell_type": "code",
   "execution_count": null,
   "metadata": {},
   "outputs": [],
   "source": [
    "#number_range = \"1..10\"\n",
    "\n",
    "#endpoint = f'http://numbersapi.com/{number_range}'\n",
    "\n",
    "#response = requests.get(endpoint)"
   ]
  },
  {
   "cell_type": "markdown",
   "metadata": {},
   "source": [
    "We can look at the response as text."
   ]
  },
  {
   "cell_type": "code",
   "execution_count": null,
   "metadata": {},
   "outputs": [],
   "source": [
    "response.text"
   ]
  },
  {
   "cell_type": "markdown",
   "metadata": {},
   "source": [
    "However, it will be easier to work with as a json. We can use the `json` method to convert the results to a dictionary."
   ]
  },
  {
   "cell_type": "code",
   "execution_count": null,
   "metadata": {},
   "outputs": [],
   "source": [
    "response_json = response.json()\n",
    "response_json"
   ]
  },
  {
   "cell_type": "markdown",
   "metadata": {},
   "source": [
    "Then, we can access the individual entries by passing in the correct key."
   ]
  }
 ],
 "metadata": {
  "kernelspec": {
   "display_name": "Python 3 (ipykernel)",
   "language": "python",
   "name": "python3"
  },
  "language_info": {
   "codemirror_mode": {
    "name": "ipython",
    "version": 3
   },
   "file_extension": ".py",
   "mimetype": "text/x-python",
   "name": "python",
   "nbconvert_exporter": "python",
   "pygments_lexer": "ipython3",
   "version": "3.9.7"
  }
 },
 "nbformat": 4,
 "nbformat_minor": 4
}
